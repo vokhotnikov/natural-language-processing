{
 "cells": [
  {
   "cell_type": "markdown",
   "metadata": {},
   "source": [
    "# Final project: StackOverflow assistant bot\n",
    "\n",
    "Congratulations on coming this far and solving the programming assignments! In this final project, we will combine everything we have learned about Natural Language Processing to construct a *dialogue chat bot*, which will be able to:\n",
    "* answer programming-related questions (using StackOverflow dataset);\n",
    "* chit-chat and simulate dialogue on all non programming-related questions.\n",
    "\n",
    "For a chit-chat mode we will use a pre-trained neural network engine available from [ChatterBot](https://github.com/gunthercox/ChatterBot).\n",
    "Those who aim at honor certificates for our course or are just curious, will train their own models for chit-chat.\n",
    "![](https://imgs.xkcd.com/comics/twitter_bot.png)\n",
    "©[xkcd](https://xkcd.com)"
   ]
  },
  {
   "cell_type": "markdown",
   "metadata": {},
   "source": [
    "### Data description\n",
    "\n",
    "To detect *intent* of users questions we will need two text collections:\n",
    "- `tagged_posts.tsv` — StackOverflow posts, tagged with one programming language (*positive samples*).\n",
    "- `dialogues.tsv` — dialogue phrases from movie subtitles (*negative samples*).\n"
   ]
  },
  {
   "cell_type": "code",
   "execution_count": 1,
   "metadata": {},
   "outputs": [
    {
     "name": "stdout",
     "output_type": "stream",
     "text": [
      "File data/dialogues.tsv is already downloaded.\n",
      "File data/tagged_posts.tsv is already downloaded.\n"
     ]
    }
   ],
   "source": [
    "import sys\n",
    "sys.path.append(\"..\")\n",
    "from common.download_utils import download_project_resources\n",
    "\n",
    "download_project_resources()"
   ]
  },
  {
   "cell_type": "markdown",
   "metadata": {},
   "source": [
    "For those questions, that have programming-related intent, we will proceed as follow predict programming language (only one tag per question allowed here) and rank candidates within the tag using embeddings.\n",
    "For the ranking part, you will need:\n",
    "- `word_embeddings.tsv` — word embeddings, that you  trained with StarSpace in the 3rd assignment. It's not a problem if you didn't do it, because we can offer an alternative solution for you."
   ]
  },
  {
   "cell_type": "markdown",
   "metadata": {},
   "source": [
    "As a result of this notebook, you should obtain the following new objects that you will then use in the running bot:\n",
    "\n",
    "- `intent_recognizer.pkl` — intent recognition model;\n",
    "- `tag_classifier.pkl` — programming language classification model;\n",
    "- `tfidf_vectorizer.pkl` — vectorizer used during training;\n",
    "- `thread_embeddings_by_tags` — folder with thread embeddings, arranged by tags.\n",
    "    "
   ]
  },
  {
   "cell_type": "markdown",
   "metadata": {},
   "source": [
    "Some functions will be reused by this notebook and the scripts, so we put them into *utils.py* file. Don't forget to open it and fill in the gaps!"
   ]
  },
  {
   "cell_type": "code",
   "execution_count": 2,
   "metadata": {},
   "outputs": [
    {
     "name": "stderr",
     "output_type": "stream",
     "text": [
      "[nltk_data] Downloading package stopwords to\n",
      "[nltk_data]     /Users/hunter/nltk_data...\n",
      "[nltk_data]   Package stopwords is already up-to-date!\n"
     ]
    }
   ],
   "source": [
    "from utils import *"
   ]
  },
  {
   "cell_type": "markdown",
   "metadata": {},
   "source": [
    "## Part I. Intent and language recognition"
   ]
  },
  {
   "cell_type": "markdown",
   "metadata": {},
   "source": [
    "We want to write a bot, which will not only **answer programming-related questions**, but also will be able to **maintain a dialogue**. We would also like to detect the *intent* of the user from the question (we could have had a 'Question answering mode' check-box in the bot, but it wouldn't fun at all, would it?). So the first thing we need to do is to **distinguish programming-related questions from general ones**.\n",
    "\n",
    "It would also be good to predict which programming language a particular question referees to. By doing so, we will speed up question search by a factor of the number of languages (10 here), and exercise our *text classification* skill a bit. :)"
   ]
  },
  {
   "cell_type": "code",
   "execution_count": 3,
   "metadata": {},
   "outputs": [],
   "source": [
    "import numpy as np\n",
    "import pandas as pd\n",
    "import pickle\n",
    "import re\n",
    "\n",
    "from sklearn.feature_extraction.text import TfidfVectorizer"
   ]
  },
  {
   "cell_type": "markdown",
   "metadata": {},
   "source": [
    "### Data preparation"
   ]
  },
  {
   "cell_type": "markdown",
   "metadata": {},
   "source": [
    "In the first assignment (Predict tags on StackOverflow with linear models), you have already learnt how to preprocess texts and do TF-IDF tranformations. Reuse your code here. In addition, you will also need to [dump](https://docs.python.org/3/library/pickle.html#pickle.dump) the TF-IDF vectorizer with pickle to use it later in the running bot."
   ]
  },
  {
   "cell_type": "code",
   "execution_count": 4,
   "metadata": {},
   "outputs": [],
   "source": [
    "def tfidf_features(X_train, X_test, vectorizer_path):\n",
    "    \"\"\"Performs TF-IDF transformation and dumps the model.\"\"\"\n",
    "    \n",
    "    # Train a vectorizer on X_train data.\n",
    "    # Transform X_train and X_test data.\n",
    "    \n",
    "    # Pickle the trained vectorizer to 'vectorizer_path'\n",
    "    # Don't forget to open the file in writing bytes mode.\n",
    "    \n",
    "    ######################################\n",
    "    ######### YOUR CODE HERE #############\n",
    "    ######################################\n",
    "    tfidf_vectorizer = TfidfVectorizer(ngram_range = (1,2), \n",
    "                                       max_df=0.9, min_df=5, \n",
    "                                       token_pattern='(\\S+)')\n",
    "  \n",
    "    Xtr = tfidf_vectorizer.fit_transform(X_train)\n",
    "    Xtest = tfidf_vectorizer.transform(X_test)\n",
    "    \n",
    "    with open(vectorizer_path, mode = 'wb') as vec_file:\n",
    "        pickle.dump(tfidf_vectorizer, vec_file)\n",
    "    \n",
    "    return Xtr, Xtest"
   ]
  },
  {
   "cell_type": "markdown",
   "metadata": {},
   "source": [
    "Now, load examples of two classes. Use a subsample of stackoverflow data to balance the classes. You will need the full data later."
   ]
  },
  {
   "cell_type": "code",
   "execution_count": 5,
   "metadata": {},
   "outputs": [],
   "source": [
    "sample_size = 200000\n",
    "\n",
    "dialogue_df = pd.read_csv('data/dialogues.tsv', sep='\\t').sample(sample_size, random_state=0)\n",
    "stackoverflow_df = pd.read_csv('data/tagged_posts.tsv', sep='\\t').sample(sample_size, random_state=0)"
   ]
  },
  {
   "cell_type": "markdown",
   "metadata": {},
   "source": [
    "Check how the data look like:"
   ]
  },
  {
   "cell_type": "code",
   "execution_count": 6,
   "metadata": {},
   "outputs": [
    {
     "data": {
      "text/html": [
       "<div>\n",
       "<style scoped>\n",
       "    .dataframe tbody tr th:only-of-type {\n",
       "        vertical-align: middle;\n",
       "    }\n",
       "\n",
       "    .dataframe tbody tr th {\n",
       "        vertical-align: top;\n",
       "    }\n",
       "\n",
       "    .dataframe thead th {\n",
       "        text-align: right;\n",
       "    }\n",
       "</style>\n",
       "<table border=\"1\" class=\"dataframe\">\n",
       "  <thead>\n",
       "    <tr style=\"text-align: right;\">\n",
       "      <th></th>\n",
       "      <th>text</th>\n",
       "      <th>tag</th>\n",
       "    </tr>\n",
       "  </thead>\n",
       "  <tbody>\n",
       "    <tr>\n",
       "      <th>82925</th>\n",
       "      <td>Donna, you are a muffin.</td>\n",
       "      <td>dialogue</td>\n",
       "    </tr>\n",
       "    <tr>\n",
       "      <th>48774</th>\n",
       "      <td>He was here last night till about two o'clock....</td>\n",
       "      <td>dialogue</td>\n",
       "    </tr>\n",
       "    <tr>\n",
       "      <th>55394</th>\n",
       "      <td>All right, then make an appointment with her s...</td>\n",
       "      <td>dialogue</td>\n",
       "    </tr>\n",
       "    <tr>\n",
       "      <th>90806</th>\n",
       "      <td>Hey, what is this-an interview? We're supposed...</td>\n",
       "      <td>dialogue</td>\n",
       "    </tr>\n",
       "    <tr>\n",
       "      <th>107758</th>\n",
       "      <td>Yeah. He's just a friend of mine I was trying ...</td>\n",
       "      <td>dialogue</td>\n",
       "    </tr>\n",
       "  </tbody>\n",
       "</table>\n",
       "</div>"
      ],
      "text/plain": [
       "                                                     text       tag\n",
       "82925                            Donna, you are a muffin.  dialogue\n",
       "48774   He was here last night till about two o'clock....  dialogue\n",
       "55394   All right, then make an appointment with her s...  dialogue\n",
       "90806   Hey, what is this-an interview? We're supposed...  dialogue\n",
       "107758  Yeah. He's just a friend of mine I was trying ...  dialogue"
      ]
     },
     "execution_count": 6,
     "metadata": {},
     "output_type": "execute_result"
    }
   ],
   "source": [
    "dialogue_df.head()"
   ]
  },
  {
   "cell_type": "code",
   "execution_count": 7,
   "metadata": {},
   "outputs": [
    {
     "data": {
      "text/html": [
       "<div>\n",
       "<style scoped>\n",
       "    .dataframe tbody tr th:only-of-type {\n",
       "        vertical-align: middle;\n",
       "    }\n",
       "\n",
       "    .dataframe tbody tr th {\n",
       "        vertical-align: top;\n",
       "    }\n",
       "\n",
       "    .dataframe thead th {\n",
       "        text-align: right;\n",
       "    }\n",
       "</style>\n",
       "<table border=\"1\" class=\"dataframe\">\n",
       "  <thead>\n",
       "    <tr style=\"text-align: right;\">\n",
       "      <th></th>\n",
       "      <th>post_id</th>\n",
       "      <th>title</th>\n",
       "      <th>tag</th>\n",
       "    </tr>\n",
       "  </thead>\n",
       "  <tbody>\n",
       "    <tr>\n",
       "      <th>2168983</th>\n",
       "      <td>43837842</td>\n",
       "      <td>Efficient Algorithm to compose valid expressio...</td>\n",
       "      <td>python</td>\n",
       "    </tr>\n",
       "    <tr>\n",
       "      <th>1084095</th>\n",
       "      <td>15747223</td>\n",
       "      <td>Why does this basic thread program fail with C...</td>\n",
       "      <td>c_cpp</td>\n",
       "    </tr>\n",
       "    <tr>\n",
       "      <th>1049020</th>\n",
       "      <td>15189594</td>\n",
       "      <td>Link to scroll to top not working</td>\n",
       "      <td>javascript</td>\n",
       "    </tr>\n",
       "    <tr>\n",
       "      <th>200466</th>\n",
       "      <td>3273927</td>\n",
       "      <td>Is it possible to implement ping on windows ph...</td>\n",
       "      <td>c#</td>\n",
       "    </tr>\n",
       "    <tr>\n",
       "      <th>1200249</th>\n",
       "      <td>17684551</td>\n",
       "      <td>GLSL normal mapping issue</td>\n",
       "      <td>c_cpp</td>\n",
       "    </tr>\n",
       "  </tbody>\n",
       "</table>\n",
       "</div>"
      ],
      "text/plain": [
       "          post_id                                              title  \\\n",
       "2168983  43837842  Efficient Algorithm to compose valid expressio...   \n",
       "1084095  15747223  Why does this basic thread program fail with C...   \n",
       "1049020  15189594                  Link to scroll to top not working   \n",
       "200466    3273927  Is it possible to implement ping on windows ph...   \n",
       "1200249  17684551                          GLSL normal mapping issue   \n",
       "\n",
       "                tag  \n",
       "2168983      python  \n",
       "1084095       c_cpp  \n",
       "1049020  javascript  \n",
       "200466           c#  \n",
       "1200249       c_cpp  "
      ]
     },
     "execution_count": 7,
     "metadata": {},
     "output_type": "execute_result"
    }
   ],
   "source": [
    "stackoverflow_df.head()"
   ]
  },
  {
   "cell_type": "markdown",
   "metadata": {},
   "source": [
    "Apply *text_prepare* function to preprocess the data:"
   ]
  },
  {
   "cell_type": "code",
   "execution_count": 8,
   "metadata": {},
   "outputs": [],
   "source": [
    "from utils import text_prepare"
   ]
  },
  {
   "cell_type": "code",
   "execution_count": 9,
   "metadata": {},
   "outputs": [],
   "source": [
    "dialogue_df['text'] = dialogue_df['text'].apply(text_prepare)\n",
    "stackoverflow_df['title'] = stackoverflow_df['title'].apply(text_prepare)"
   ]
  },
  {
   "cell_type": "markdown",
   "metadata": {},
   "source": [
    "### Intent recognition"
   ]
  },
  {
   "cell_type": "markdown",
   "metadata": {},
   "source": [
    "We will do a binary classification on TF-IDF representations of texts. Labels will be either `dialogue` for general questions or `stackoverflow` for programming-related questions. First, prepare the data for this task:\n",
    "- concatenate `dialogue` and `stackoverflow` examples into one sample\n",
    "- split it into train and test in proportion 9:1, use *random_state=0* for reproducibility\n",
    "- transform it into TF-IDF features"
   ]
  },
  {
   "cell_type": "code",
   "execution_count": 10,
   "metadata": {},
   "outputs": [],
   "source": [
    "from sklearn.model_selection import train_test_split"
   ]
  },
  {
   "cell_type": "code",
   "execution_count": 11,
   "metadata": {},
   "outputs": [
    {
     "name": "stdout",
     "output_type": "stream",
     "text": [
      "Train size = 360000, test size = 40000\n"
     ]
    }
   ],
   "source": [
    "X = np.concatenate([dialogue_df['text'].values, stackoverflow_df['title'].values])\n",
    "y = ['dialogue'] * dialogue_df.shape[0] + ['stackoverflow'] * stackoverflow_df.shape[0]\n",
    "\n",
    "X_train, X_test, y_train, y_test = train_test_split(X, y, test_size=0.1, random_state=0, stratify=y)\n",
    "print('Train size = {}, test size = {}'.format(len(X_train), len(X_test)))\n",
    "\n",
    "X_train_tfidf, X_test_tfidf = tfidf_features(X_train, X_test, RESOURCE_PATH['TFIDF_VECTORIZER'])"
   ]
  },
  {
   "cell_type": "markdown",
   "metadata": {},
   "source": [
    "Train the **intent recognizer** using LogisticRegression on the train set with the following parameters: *penalty='l2'*, *C=10*, *random_state=0*. Print out the accuracy on the test set to check whether everything looks good."
   ]
  },
  {
   "cell_type": "code",
   "execution_count": 12,
   "metadata": {},
   "outputs": [],
   "source": [
    "from sklearn.linear_model import LogisticRegression\n",
    "from sklearn.metrics import accuracy_score"
   ]
  },
  {
   "cell_type": "code",
   "execution_count": 13,
   "metadata": {},
   "outputs": [
    {
     "data": {
      "text/plain": [
       "LogisticRegression(C=10, class_weight=None, dual=False, fit_intercept=True,\n",
       "          intercept_scaling=1, max_iter=100, multi_class='warn',\n",
       "          n_jobs=None, penalty='l2', random_state=0, solver='liblinear',\n",
       "          tol=0.0001, verbose=0, warm_start=False)"
      ]
     },
     "execution_count": 13,
     "metadata": {},
     "output_type": "execute_result"
    }
   ],
   "source": [
    "intent_recognizer = LogisticRegression(penalty='l2', C=10, random_state=0, solver='liblinear')\n",
    "intent_recognizer.fit(X_train_tfidf, y_train)"
   ]
  },
  {
   "cell_type": "code",
   "execution_count": 14,
   "metadata": {},
   "outputs": [
    {
     "name": "stdout",
     "output_type": "stream",
     "text": [
      "Test accuracy = 0.99275\n"
     ]
    }
   ],
   "source": [
    "# Check test accuracy.\n",
    "y_test_pred = intent_recognizer.predict(X_test_tfidf)\n",
    "test_accuracy = accuracy_score(y_test, y_test_pred)\n",
    "print('Test accuracy = {}'.format(test_accuracy))"
   ]
  },
  {
   "cell_type": "markdown",
   "metadata": {},
   "source": [
    "Dump the classifier to use it in the running bot."
   ]
  },
  {
   "cell_type": "code",
   "execution_count": 15,
   "metadata": {},
   "outputs": [],
   "source": [
    "pickle.dump(intent_recognizer, open(RESOURCE_PATH['INTENT_RECOGNIZER'], 'wb'))"
   ]
  },
  {
   "cell_type": "markdown",
   "metadata": {},
   "source": [
    "### Programming language classification "
   ]
  },
  {
   "cell_type": "markdown",
   "metadata": {},
   "source": [
    "We will train one more classifier for the programming-related questions. It will predict exactly one tag (=programming language) and will be also based on Logistic Regression with TF-IDF features. \n",
    "\n",
    "First, let us prepare the data for this task."
   ]
  },
  {
   "cell_type": "code",
   "execution_count": 16,
   "metadata": {},
   "outputs": [],
   "source": [
    "X = stackoverflow_df['title'].values\n",
    "y = stackoverflow_df['tag'].values"
   ]
  },
  {
   "cell_type": "code",
   "execution_count": 17,
   "metadata": {},
   "outputs": [
    {
     "name": "stdout",
     "output_type": "stream",
     "text": [
      "Train size = 160000, test size = 40000\n"
     ]
    }
   ],
   "source": [
    "X_train, X_test, y_train, y_test = train_test_split(X, y, test_size=0.2, random_state=0)\n",
    "print('Train size = {}, test size = {}'.format(len(X_train), len(X_test)))"
   ]
  },
  {
   "cell_type": "markdown",
   "metadata": {},
   "source": [
    "Let us reuse the TF-IDF vectorizer that we have already created above. It should not make a huge difference which data was used to train it."
   ]
  },
  {
   "cell_type": "code",
   "execution_count": 18,
   "metadata": {},
   "outputs": [],
   "source": [
    "vectorizer = pickle.load(open(RESOURCE_PATH['TFIDF_VECTORIZER'], 'rb'))\n",
    "\n",
    "X_train_tfidf, X_test_tfidf = vectorizer.transform(X_train), vectorizer.transform(X_test)"
   ]
  },
  {
   "cell_type": "markdown",
   "metadata": {},
   "source": [
    "Train the **tag classifier** using OneVsRestClassifier wrapper over LogisticRegression. Use the following parameters: *penalty='l2'*, *C=5*, *random_state=0*."
   ]
  },
  {
   "cell_type": "code",
   "execution_count": 19,
   "metadata": {},
   "outputs": [],
   "source": [
    "from sklearn.multiclass import OneVsRestClassifier"
   ]
  },
  {
   "cell_type": "code",
   "execution_count": 20,
   "metadata": {},
   "outputs": [
    {
     "data": {
      "text/plain": [
       "OneVsRestClassifier(estimator=LogisticRegression(C=5, class_weight=None, dual=False, fit_intercept=True,\n",
       "          intercept_scaling=1, max_iter=100, multi_class='warn',\n",
       "          n_jobs=None, penalty='l2', random_state=0, solver='liblinear',\n",
       "          tol=0.0001, verbose=0, warm_start=False),\n",
       "          n_jobs=None)"
      ]
     },
     "execution_count": 20,
     "metadata": {},
     "output_type": "execute_result"
    }
   ],
   "source": [
    "tag_classifier = OneVsRestClassifier(LogisticRegression(penalty='l2', C=5, random_state=0, solver='liblinear'))\n",
    "tag_classifier.fit(X_train_tfidf, y_train)"
   ]
  },
  {
   "cell_type": "code",
   "execution_count": 21,
   "metadata": {},
   "outputs": [
    {
     "name": "stdout",
     "output_type": "stream",
     "text": [
      "Test accuracy = 0.80085\n"
     ]
    }
   ],
   "source": [
    "# Check test accuracy.\n",
    "y_test_pred = tag_classifier.predict(X_test_tfidf)\n",
    "test_accuracy = accuracy_score(y_test, y_test_pred)\n",
    "print('Test accuracy = {}'.format(test_accuracy))"
   ]
  },
  {
   "cell_type": "markdown",
   "metadata": {},
   "source": [
    "Dump the classifier to use it in the running bot."
   ]
  },
  {
   "cell_type": "code",
   "execution_count": 22,
   "metadata": {},
   "outputs": [],
   "source": [
    "pickle.dump(tag_classifier, open(RESOURCE_PATH['TAG_CLASSIFIER'], 'wb'))"
   ]
  },
  {
   "cell_type": "markdown",
   "metadata": {},
   "source": [
    "## Part II. Ranking  questions with embeddings"
   ]
  },
  {
   "cell_type": "markdown",
   "metadata": {},
   "source": [
    "To find a relevant answer (a thread from StackOverflow) on a question you will use vector representations to calculate similarity between the question and existing threads. We already had `question_to_vec` function from the assignment 3, which can create such a representation based on word vectors. \n",
    "\n",
    "However, it would be costly to compute such a representation for all possible answers in *online mode* of the bot (e.g. when bot is running and answering questions from many users). This is the reason why you will create a *database* with pre-computed representations. These representations will be arranged by non-overlaping tags (programming languages), so that the search of the answer can be performed only within one tag each time. This will make our bot even more efficient and allow not to store all the database in RAM. "
   ]
  },
  {
   "cell_type": "markdown",
   "metadata": {},
   "source": [
    "Load StarSpace embeddings which were trained on Stack Overflow posts. These embeddings were trained in *supervised mode* for duplicates detection on the same corpus that is used in search. We can account on that these representations will allow us to find closely related answers for a question. \n",
    "\n",
    "If for some reasons you didn't train StarSpace embeddings in the assignment 3, you can use [pre-trained word vectors](https://code.google.com/archive/p/word2vec/) from Google. All instructions about how to work with these vectors were provided in the same assignment. However, we highly recommend to use StartSpace's embeddings, because it contains more appropriate embeddings. If you chose to use Google's embeddings, delete the words, which is not in Stackoverflow data."
   ]
  },
  {
   "cell_type": "code",
   "execution_count": 23,
   "metadata": {},
   "outputs": [],
   "source": [
    "starspace_embeddings, embeddings_dim = load_embeddings('data/word_embeddings.tsv')"
   ]
  },
  {
   "cell_type": "markdown",
   "metadata": {},
   "source": [
    "Since we want to precompute representations for all possible answers, we need to load the whole posts dataset, unlike we did for the intent classifier:"
   ]
  },
  {
   "cell_type": "code",
   "execution_count": 24,
   "metadata": {},
   "outputs": [],
   "source": [
    "posts_df = pd.read_csv('data/tagged_posts.tsv', sep='\\t')"
   ]
  },
  {
   "cell_type": "markdown",
   "metadata": {},
   "source": [
    "Look at the distribution of posts for programming languages (tags) and find the most common ones. \n",
    "You might want to use pandas [groupby](https://pandas.pydata.org/pandas-docs/stable/generated/pandas.DataFrame.groupby.html) and [count](https://pandas.pydata.org/pandas-docs/stable/generated/pandas.DataFrame.count.html) methods:"
   ]
  },
  {
   "cell_type": "code",
   "execution_count": 25,
   "metadata": {},
   "outputs": [
    {
     "data": {
      "text/html": [
       "<div>\n",
       "<style scoped>\n",
       "    .dataframe tbody tr th:only-of-type {\n",
       "        vertical-align: middle;\n",
       "    }\n",
       "\n",
       "    .dataframe tbody tr th {\n",
       "        vertical-align: top;\n",
       "    }\n",
       "\n",
       "    .dataframe thead th {\n",
       "        text-align: right;\n",
       "    }\n",
       "</style>\n",
       "<table border=\"1\" class=\"dataframe\">\n",
       "  <thead>\n",
       "    <tr style=\"text-align: right;\">\n",
       "      <th></th>\n",
       "      <th>post_id</th>\n",
       "      <th>title</th>\n",
       "      <th>tag</th>\n",
       "    </tr>\n",
       "  </thead>\n",
       "  <tbody>\n",
       "    <tr>\n",
       "      <th>0</th>\n",
       "      <td>9</td>\n",
       "      <td>Calculate age in C#</td>\n",
       "      <td>c#</td>\n",
       "    </tr>\n",
       "    <tr>\n",
       "      <th>1</th>\n",
       "      <td>16</td>\n",
       "      <td>Filling a DataSet or DataTable from a LINQ que...</td>\n",
       "      <td>c#</td>\n",
       "    </tr>\n",
       "    <tr>\n",
       "      <th>2</th>\n",
       "      <td>39</td>\n",
       "      <td>Reliable timer in a console application</td>\n",
       "      <td>c#</td>\n",
       "    </tr>\n",
       "    <tr>\n",
       "      <th>3</th>\n",
       "      <td>42</td>\n",
       "      <td>Best way to allow plugins for a PHP application</td>\n",
       "      <td>php</td>\n",
       "    </tr>\n",
       "    <tr>\n",
       "      <th>4</th>\n",
       "      <td>59</td>\n",
       "      <td>How do I get a distinct, ordered list of names...</td>\n",
       "      <td>c#</td>\n",
       "    </tr>\n",
       "  </tbody>\n",
       "</table>\n",
       "</div>"
      ],
      "text/plain": [
       "   post_id                                              title  tag\n",
       "0        9                                Calculate age in C#   c#\n",
       "1       16  Filling a DataSet or DataTable from a LINQ que...   c#\n",
       "2       39            Reliable timer in a console application   c#\n",
       "3       42    Best way to allow plugins for a PHP application  php\n",
       "4       59  How do I get a distinct, ordered list of names...   c#"
      ]
     },
     "execution_count": 25,
     "metadata": {},
     "output_type": "execute_result"
    }
   ],
   "source": [
    "posts_df.head()"
   ]
  },
  {
   "cell_type": "code",
   "execution_count": 26,
   "metadata": {},
   "outputs": [
    {
     "name": "stdout",
     "output_type": "stream",
     "text": [
      "Counts by tag size: 10\n"
     ]
    },
    {
     "data": {
      "text/plain": [
       "tag\n",
       "c#            394451\n",
       "java          383456\n",
       "javascript    375867\n",
       "php           321752\n",
       "c_cpp         281300\n",
       "Name: post_id, dtype: int64"
      ]
     },
     "execution_count": 26,
     "metadata": {},
     "output_type": "execute_result"
    }
   ],
   "source": [
    "counts_by_tag = posts_df.groupby('tag').count().sort_values(by='post_id', ascending = False)['post_id']\n",
    "print(\"Counts by tag size: {}\".format(len(counts_by_tag)))\n",
    "counts_by_tag.head()"
   ]
  },
  {
   "cell_type": "markdown",
   "metadata": {},
   "source": [
    "Now for each `tag` you need to create two data structures, which will serve as online search index:\n",
    "* `tag_post_ids` — a list of post_ids with shape `(counts_by_tag[tag],)`. It will be needed to show the title and link to the thread;\n",
    "* `tag_vectors` — a matrix with shape `(counts_by_tag[tag], embeddings_dim)` where embeddings for each answer are stored.\n",
    "\n",
    "Implement the code which will calculate the mentioned structures and dump it to files. It should take several minutes to compute it."
   ]
  },
  {
   "cell_type": "code",
   "execution_count": 27,
   "metadata": {},
   "outputs": [
    {
     "name": "stdout",
     "output_type": "stream",
     "text": [
      "'c#' 394451\n",
      "0      9\n",
      "1     16\n",
      "2     39\n",
      "4     59\n",
      "5    109\n",
      "Name: post_id, dtype: int64\n",
      "calculate age c#\n",
      "[-0.00609663  0.0856457  -0.0243859  -0.0575379  -0.0896199  -0.150673\n",
      "  0.0514034  -0.0734496   0.0557429  -0.119688    0.17927     0.0248065\n",
      "  0.128156   -0.0650005   0.00550001  0.0812471   0.132675    0.0379003\n",
      " -0.0842972   0.0339803  -0.0910914  -0.0320923   0.00106795 -0.00677871\n",
      " -0.0652618  -0.171107    0.0872964   0.0881829   0.102776   -0.0328982\n",
      " -0.0442914   0.042556   -0.0969674   0.210011   -0.0707694   0.0189274\n",
      " -0.0876047   0.16583     0.141884   -0.0610141   0.124426    0.0474082\n",
      " -0.0761084   0.00863056 -0.00702077 -0.0489632   0.0319504  -0.0109182\n",
      " -0.023114   -0.0336385  -0.0843425   0.0450364  -0.0431519  -0.00109043\n",
      " -0.0156937  -0.0330906   0.0590281  -0.0449966  -0.0352908   0.0588845\n",
      " -0.0791481   0.0987209  -0.170683   -0.0434576  -0.0721443   0.0736239\n",
      "  0.0558213   0.0972882   0.0815032  -0.0437397   0.138869    0.129758\n",
      " -0.0805834   0.276647    0.0458351  -0.018899   -0.0607785  -0.0156476\n",
      " -0.0638253   0.0463411   0.0998341  -0.0544652   0.0569924  -0.1431\n",
      "  0.0624556   0.0084408   0.193181    0.107396    0.0653436   0.00377835\n",
      "  0.0200986   0.105884    0.0273479   0.0313946   0.0743549  -0.0237671\n",
      "  0.0132231   0.0992352   0.00705907  0.398476  ]\n",
      "[ 0.00150366  0.03419015  0.00720637 -0.0082467  -0.01219357 -0.08297983\n",
      "  0.04597116  0.016581    0.07902527 -0.07139257  0.09296492  0.03163403\n",
      "  0.04946016 -0.01660197  0.03062917  0.04150067  0.03597687  0.03564413\n",
      "  0.00076867  0.03079437 -0.05497103 -0.0382216   0.02280324  0.01460343\n",
      " -0.0261872  -0.10949123  0.065892    0.0538267  -0.01099525  0.0072547\n",
      " -0.02221331  0.01283367  0.00469567  0.07828937 -0.02625257 -0.00146985\n",
      "  0.00992124  0.07735884  0.04886506 -0.03009716  0.0566074   0.02440994\n",
      "  0.0344299   0.03982675 -0.0079321  -0.0346082   0.01962416 -0.01953377\n",
      "  0.01463273 -0.0385716  -0.04676353 -0.00734418 -0.02966847  0.00906963\n",
      "  0.01023739 -0.02771889  0.02310547 -0.03725703 -0.02857458  0.0479454\n",
      " -0.04815663  0.0335773  -0.06065243 -0.00230401 -0.01297496 -0.0184919\n",
      "  0.0393364   0.03320977  0.06988733 -0.0303684   0.06222827  0.08551307\n",
      " -0.02495581  0.10957083  0.0547502   0.00839788 -0.00320033  0.0273714\n",
      " -0.00856864 -0.02322977  0.0857708  -0.00226497  0.03430562 -0.03950761\n",
      "  0.0250467   0.0468142   0.05376517  0.0968542  -0.02088977 -0.00167078\n",
      "  0.032084    0.06568007 -0.02354157  0.01358107  0.03312577  0.00483263\n",
      "  0.01922977  0.06545947  0.04118759  0.13494493]\n",
      "filling dataset datatable linq query result set\n",
      "[-0.04380063  0.04097163  0.02905009 -0.00828225 -0.0213679   0.0368611\n",
      "  0.02646316  0.04196543  0.01893633  0.01334186  0.0287276   0.00969344\n",
      "  0.0119143  -0.00636968 -0.00764253  0.0233186   0.02312     0.03053053\n",
      "  0.00266808 -0.0065955   0.00305633 -0.01926507 -0.01160307 -0.01799603\n",
      "  0.00348233 -0.03899052 -0.0156128   0.01784711  0.00434001 -0.02447127\n",
      " -0.02218617 -0.02389853 -0.01268389 -0.00601533 -0.00893073  0.00476882\n",
      "  0.00283922  0.03017087  0.03779221  0.00630477 -0.02223872  0.00716358\n",
      "  0.0393742   0.01067037 -0.01443933 -0.02079083  0.03303147 -0.0391079\n",
      "  0.00996135 -0.01364533  0.0066375  -0.00241895 -0.00827553 -0.00400167\n",
      " -0.04281797 -0.00555758  0.0016814  -0.0419129  -0.02201704 -0.02888421\n",
      " -0.00466093  0.00880063  0.03629111 -0.00552642 -0.02223683 -0.01661018\n",
      "  0.01437607  0.00776863 -0.00564212  0.02014274  0.0337909  -0.0240972\n",
      " -0.00688754 -0.01040257 -0.00647147  0.02391     0.01069886 -0.00423876\n",
      " -0.02858473 -0.01899672 -0.010261   -0.01754503 -0.02539291 -0.0019505\n",
      " -0.00883282  0.00463662 -0.00687566 -0.01843193 -0.00868487  0.00112083\n",
      "  0.02509116 -0.03215133  0.04112744 -0.0371936  -0.02361883  0.01458977\n",
      " -0.00252832 -0.01702767  0.0389281   0.00801222]\n",
      "[-0.01223387  0.03774648  0.03128425 -0.06617917 -0.02496814  0.02599197\n",
      " -0.00028876  0.06338996  0.07624659  0.02487976  0.02389049 -0.02723785\n",
      " -0.01957679 -0.00674569  0.05099963  0.00866753  0.03966262  0.04531213\n",
      "  0.06026478 -0.01217114 -0.0122381  -0.04058066  0.00085339 -0.02625314\n",
      " -0.01346062 -0.03276473  0.03901322 -0.0249362  -0.01973324  0.00726631\n",
      " -0.01697141  0.00213546  0.07908449 -0.01446184 -0.03700827 -0.02669976\n",
      "  0.01837041  0.01019999 -0.00334992 -0.01472738 -0.02094305 -0.03576704\n",
      "  0.04588756 -0.00727753 -0.00093144 -0.03590881  0.03100774 -0.00690734\n",
      "  0.02980403 -0.05568064 -0.00233323 -0.03936581 -0.02369878 -0.02081369\n",
      " -0.00180691 -0.00964662 -0.01789083 -0.0188563  -0.02428895 -0.00057406\n",
      "  0.00389926  0.01399089  0.0281322   0.04024025 -0.01171492 -0.09362454\n",
      "  0.00417136 -0.04196241 -0.01143879 -0.02615018 -0.00800219  0.02097871\n",
      " -0.01446061  0.00551178  0.0033594   0.02978487 -0.00810769 -0.02085921\n",
      " -0.01384492 -0.01769386 -0.00449991 -0.03703869 -0.01710628 -0.00374978\n",
      "  0.00151676  0.0009269  -0.03079133  0.01914467 -0.02005639  0.02115101\n",
      "  0.01624757  0.00634838  0.0165352   0.0312559   0.03197053  0.00067651\n",
      "  0.06423315 -0.01838206  0.0519587   0.03000105]\n",
      "reliable timer console application\n",
      "[ 0.04326757  0.02409429  0.04451696  0.07762052  0.04105897 -0.0077852\n",
      "  0.04726323 -0.02150913 -0.03484323  0.05392113 -0.01054105  0.02989113\n",
      " -0.05301497  0.04458937  0.05479212 -0.01824142 -0.0347997  -0.05067712\n",
      " -0.03814586  0.0186921  -0.0765575  -0.02702013 -0.00976113  0.02550104\n",
      "  0.00400622 -0.00991343  0.00430267  0.04578262 -0.01189923  0.06798323\n",
      " -0.0573092  -0.0471622   0.01977793  0.0110119  -0.017013   -0.0391892\n",
      " -0.03972297  0.0085335  -0.00241387  0.06815523 -0.00987793 -0.02405675\n",
      "  0.0427627   0.01003414 -0.03047127  0.01630347  0.03842924 -0.01998863\n",
      " -0.02246397 -0.02054003  0.02759073  0.0064715  -0.04493413  0.03805707\n",
      "  0.03357748 -0.0109976  -0.07782877  0.03855133  0.00424111 -0.01287953\n",
      "  0.02369993  0.00179113  0.0070359   0.05595917  0.0107602  -0.04901648\n",
      "  0.0355573  -0.030132   -0.02924007 -0.00983203 -0.00765837 -0.00666661\n",
      " -0.04169304 -0.00124622 -0.07699617 -0.01944027 -0.01737957  0.04737846\n",
      "  0.02002467  0.03422103 -0.03218164 -0.02471153  0.03153607  0.01900313\n",
      "  0.06258172  0.0179127  -0.02079947  0.04475317  0.0441804  -0.02088207\n",
      " -0.0745747   0.04365533 -0.0534398   0.0192776  -0.0823472   0.00376017\n",
      " -0.04270215  0.05845973  0.0469634  -0.06847527]\n",
      "[ 0.04266462  0.00288352  0.03429795  0.07605944  0.0408402  -0.0010208\n",
      "  0.03435999 -0.03921268 -0.02790703  0.04029605 -0.00030796  0.0192945\n",
      " -0.0423006   0.0287831   0.03055962 -0.03844924 -0.02994143 -0.06236864\n",
      " -0.01428639 -0.01203592 -0.04703792 -0.03481857 -0.02583015  0.03793463\n",
      "  0.00804682  0.00844778 -0.0189965  -0.00086028 -0.01988917  0.04724435\n",
      " -0.04864735 -0.0518277   0.0071429   0.02836848 -0.01465476 -0.02833152\n",
      "  0.01946277  0.00376305  0.00042771  0.02443792 -0.04169595 -0.01639058\n",
      "  0.03978975 -0.00418552 -0.0545542   0.05866035  0.02158438 -0.02130167\n",
      " -0.02674447 -0.04416627  0.01353692  0.01844965 -0.02767407  0.0401813\n",
      " -0.00771739 -0.00960175 -0.03412503  0.01871057 -0.01312472 -0.0302867\n",
      "  0.04081967  0.01134228 -0.02587408  0.02077247  0.0027317  -0.01833766\n",
      "  0.04218907 -0.02752245 -0.04375967 -0.02824477  0.03078322 -0.02422501\n",
      " -0.0484954  -0.01526596 -0.0419042  -0.03431828 -0.02896046  0.01426467\n",
      "  0.03516765  0.04501337 -0.02703973 -0.03921022  0.01582683  0.00061447\n",
      "  0.06635034  0.0208991   0.01017589  0.04830855  0.05006595 -0.02039675\n",
      " -0.06226938  0.04018255 -0.03840326  0.02759517 -0.0968974  -0.01040105\n",
      " -0.03477614  0.05064208  0.02496045 -0.05376268]\n",
      "get distinct ordered list names datatable using linq\n",
      "[-0.06770064 -0.02272055  0.0014617  -0.01167808 -0.01455269  0.01874398\n",
      "  0.01943371  0.03651605  0.00499085  0.04110287  0.01632893 -0.00116832\n",
      " -0.01317154  0.00136361  0.00650623 -0.00367311  0.0153294  -0.03743294\n",
      "  0.05547474 -0.00159351 -0.01164616 -0.04540736 -0.0054967   0.03110996\n",
      "  0.03629204  0.02040109 -0.03450683 -0.02176541  0.0277387  -0.02224381\n",
      " -0.02506793 -0.02212438  0.03203033  0.00875843 -0.01086733 -0.00858251\n",
      "  0.0502289  -0.01142953 -0.00021309 -0.03828093  0.04953722 -0.01870057\n",
      " -0.00557533 -0.01673062  0.01465526 -0.03254274  0.0623838  -0.04992495\n",
      "  0.02233924 -0.00084116  0.0102969  -0.01675587 -0.01793595 -0.02517822\n",
      "  0.00832765  0.02285704  0.00089485 -0.0082978   0.03073888  0.0107499\n",
      " -0.01423714 -0.00530287  0.00471655 -0.02769958 -0.02170283 -0.02695799\n",
      "  0.01749135  0.00617992 -0.01358838 -0.01166001  0.01560911 -0.00137023\n",
      " -0.00081189 -0.00413884 -0.02306749  0.01995071  0.01720068 -0.00723683\n",
      "  0.00233204 -0.00500601  0.00994952  0.02752612 -0.00801442  0.01644285\n",
      " -0.02295398  0.00279432  0.01207017  0.03090661 -0.02323491 -0.00093669\n",
      " -0.00424654 -0.0124331   0.01900996 -0.00582356  0.00660732  0.03468949\n",
      "  0.00352545 -0.00391191  0.01192362 -0.00208924]\n",
      "[-0.04814563  0.01944175  0.02066326 -0.0573178  -0.01376137  0.02234866\n",
      "  0.02648561  0.02986086  0.05721687  0.03754856  0.00045232 -0.00023066\n",
      " -0.01688814 -0.01764768  0.04086584 -0.01460893  0.03223762 -0.0137271\n",
      "  0.08325202 -0.0103987  -0.03724726 -0.03515075  0.02342535  0.010781\n",
      "  0.0285254   0.00450759 -0.00275106 -0.02209323  0.013254   -0.00240775\n",
      " -0.01768448  0.00352877  0.0585595  -0.00680578 -0.02208772 -0.01848442\n",
      "  0.04024456 -0.01089327 -0.01162305 -0.04256617  0.03362216 -0.03052842\n",
      " -0.00966568  0.00158333  0.01544728 -0.03487161  0.04569326 -0.01448748\n",
      "  0.03676549 -0.0167774   0.00022634 -0.0340412  -0.02742647 -0.02377457\n",
      "  0.02159446 -0.01020589 -0.0162374  -0.01452631  0.008183    0.0175759\n",
      " -0.00593656 -0.00181522 -0.00072625 -0.01629876  0.00438599 -0.05045835\n",
      " -0.008771   -0.02494909 -0.00314247 -0.03563676  0.00120804  0.01266375\n",
      " -0.0275556   0.01992268 -0.02148412  0.02927333  0.00492748 -0.02346313\n",
      "  0.00222924 -0.0042473   0.01649235  0.0061311  -0.01990159  0.02155012\n",
      " -0.02335225 -0.00762231 -0.0048062   0.03056235 -0.04407693  0.0272199\n",
      " -0.01561362 -0.00560703  0.0046056   0.01642223  0.00513361  0.01792866\n",
      "  0.031249   -0.00401354  0.03299605  0.00778115]\n",
      "decoding tsql cast c# vbnet\n",
      "[0. 0. 0. 0. 0. 0. 0. 0. 0. 0. 0. 0. 0. 0. 0. 0. 0. 0. 0. 0. 0. 0. 0. 0.\n",
      " 0. 0. 0. 0. 0. 0. 0. 0. 0. 0. 0. 0. 0. 0. 0. 0. 0. 0. 0. 0. 0. 0. 0. 0.\n",
      " 0. 0. 0. 0. 0. 0. 0. 0. 0. 0. 0. 0. 0. 0. 0. 0. 0. 0. 0. 0. 0. 0. 0. 0.\n",
      " 0. 0. 0. 0. 0. 0. 0. 0. 0. 0. 0. 0. 0. 0. 0. 0. 0. 0. 0. 0. 0. 0. 0. 0.\n",
      " 0. 0. 0. 0.]\n",
      "[ 0.02123402 -0.03629389 -0.04773806 -0.0328715  -0.00894061  0.00485688\n",
      "  0.01866836 -0.00089504  0.0523073  -0.02072134 -0.03212611 -0.01190358\n",
      "  0.00854577 -0.01331242  0.07280752  0.00169834  0.05586008  0.01015796\n",
      "  0.0092728  -0.02477911 -0.02643475  0.00610211  0.0195194  -0.01766997\n",
      " -0.0041007  -0.05359506  0.02635934  0.04607608 -0.07026074  0.02307426\n",
      "  0.02938442 -0.0048817   0.02882772  0.02125382 -0.04672826  0.00318389\n",
      "  0.02629934  0.05309765 -0.00738976 -0.00572964 -0.01384583  0.04066896\n",
      "  0.08585664  0.02813096 -0.02170462 -0.0282858  -0.01052409 -0.07031112\n",
      "  0.04141776  0.01523634  0.01576291 -0.04073405 -0.01558692  0.00402278\n",
      "  0.00575504  0.01991525  0.02765212 -0.04421766  0.01420959 -0.0266036\n",
      " -0.04540744  0.02330442  0.02596462 -0.00479208 -0.08203336 -0.06343526\n",
      "  0.01509294 -0.00191452 -0.00757548 -0.0301198  -0.04871376  0.03355976\n",
      "  0.01935734  0.0634497  -0.00072094 -0.03996545  0.03599566  0.01138638\n",
      " -0.04766198  0.00344452  0.05083908 -0.02302622  0.02259572  0.01275599\n",
      "  0.0391433   0.00299842  0.01040296  0.03025456 -0.0426281  -0.04759357\n",
      " -0.03814361 -0.02514904 -0.01970883  0.05152379 -0.0068049   0.0361725\n",
      "  0.04698982  0.0446811   0.00442334  0.06496124]\n",
      "'java' 383456\n"
     ]
    },
    {
     "name": "stdout",
     "output_type": "stream",
     "text": [
      "18     564\n",
      "55    2092\n",
      "57    2158\n",
      "75    2968\n",
      "77    3049\n",
      "Name: post_id, dtype: int64\n",
      "difference int integer java c#\n",
      "[-0.00851282  0.0321181   0.01075759  0.03177903 -0.02243905  0.0225708\n",
      "  0.04273282  0.00624895 -0.0055017   0.0205837   0.0544131   0.01018068\n",
      " -0.03422223  0.01709565  0.01546885  0.0157293   0.01765505 -0.01071888\n",
      " -0.0823444   0.0014438   0.0185326  -0.0041367   0.02152373 -0.07083425\n",
      "  0.0281709   0.00226116  0.02911577  0.01037088 -0.01583415 -0.0253464\n",
      " -0.0151877   0.0153638   0.0052458   0.0064803  -0.0635144  -0.0292226\n",
      "  0.07429635 -0.01140295  0.00799948 -0.01927043  0.0331929  -0.0326251\n",
      "  0.0065305   0.0206173  -0.02745654 -0.0392757  -0.03298729  0.01661485\n",
      "  0.0081856   0.01743114 -0.03755285  0.04328977 -0.04179385  0.04201675\n",
      "  0.0250852  -0.00882764 -0.01428918 -0.05536635  0.02565155  0.0454216\n",
      " -0.0124496   0.02258722 -0.0080454   0.0441141  -0.04405435 -0.0094899\n",
      "  0.0008449   0.01544114 -0.02427731 -0.0252561  -0.0111702  -0.00300695\n",
      "  0.01087935  0.03502735 -0.02488695 -0.0072351   0.00390417  0.04290195\n",
      " -0.01589924 -0.0407436  -0.01146529  0.0500282  -0.00161145  0.00882963\n",
      " -0.024463    0.0549039  -0.00342875 -0.00527177 -0.00232405  0.02147594\n",
      " -0.02896505 -0.00011552 -0.0215019   0.0520135   0.07170305 -0.05779075\n",
      " -0.009092    0.0334044  -0.01393021  0.01405295]\n",
      "[-0.00419999  0.03411812  0.00933532  0.01130292  0.03570774 -0.00403282\n",
      "  0.03191882  0.02168282  0.02409226 -0.0009161   0.01801907  0.00800231\n",
      " -0.0397198   0.0171805   0.02363086  0.01863626  0.03211816  0.00132445\n",
      " -0.03275302 -0.02580402  0.01024454  0.02865004  0.03358469 -0.03626049\n",
      "  0.0118933  -0.02405658  0.03615121  0.01085706 -0.03320034 -0.01617372\n",
      " -0.01354856 -0.0108957   0.00794776 -0.0013553  -0.03740216 -0.03359245\n",
      "  0.0663713  -0.00635085  0.00243769 -0.01684853  0.02833818 -0.01149579\n",
      "  0.04074532 -0.00023825 -0.04966446 -0.03492948 -0.01001704  0.00235929\n",
      " -0.0075213   0.02111066 -0.0321384   0.0510875  -0.03397832  0.0187529\n",
      "  0.03662788  0.00926777 -0.01989037 -0.0331592   0.01936379  0.02403096\n",
      "  0.00043108  0.02457187 -0.0005529   0.0145113  -0.01232732 -0.0100489\n",
      " -0.00927182  0.02919583 -0.03232642 -0.0294486  -0.0041361  -0.00970306\n",
      "  0.00371952  0.03607228  0.00016082 -0.01171752  0.00113813  0.02992746\n",
      "  0.01697565 -0.02225884 -0.0255576   0.02046814  0.027478    0.00908791\n",
      " -0.00917228  0.0426258   0.01422761  0.01238057 -0.01637476  0.00666579\n",
      " -0.01359786  0.00375712 -0.01935754  0.03944726  0.02243548 -0.0349747\n",
      "  0.0030823   0.01929126  0.01018256 -0.00221426]\n",
      "get started writing code coverage tool\n",
      "[ 0.00830024 -0.00093008 -0.02150452  0.00713755  0.02495606 -0.0054174\n",
      "  0.00260212  0.02070591 -0.03427041  0.01703313 -0.00110666  0.03731055\n",
      " -0.016318    0.00984928 -0.01682369 -0.02114668 -0.03287892 -0.0106442\n",
      "  0.0033286  -0.02102767  0.00619264  0.06131147 -0.06357208 -0.02357429\n",
      " -0.01162388 -0.01544923 -0.0125684   0.06425157 -0.00540999 -0.0014537\n",
      " -0.05051112  0.00903414 -0.03868424  0.03717525 -0.03672683 -0.00944022\n",
      " -0.0276281   0.01098752 -0.0410226   0.00726221  0.0329364   0.06298169\n",
      "  0.03906468  0.06528555 -0.0398598  -0.04563313  0.03058643  0.00145474\n",
      "  0.00672489  0.0080142   0.01672695  0.0323143   0.04537056  0.01614098\n",
      " -0.01509534  0.02320385 -0.02164125 -0.0209761   0.0290752  -0.03049227\n",
      "  0.04768443 -0.02035157  0.01053531 -0.0191844   0.03154803  0.00268444\n",
      " -0.00150363 -0.0031201  -0.00966845 -0.02753903  0.02876438 -0.01101323\n",
      "  0.01228368 -0.06444951 -0.02863737  0.01127436  0.00876423 -0.0239106\n",
      " -0.05064625  0.02656855  0.00640094  0.05955355 -0.01102807  0.02922219\n",
      " -0.00790995 -0.0362307  -0.03451203 -0.01488316  0.0074016   0.05717305\n",
      "  0.0434717  -0.0286646  -0.03050666  0.03042495 -0.00358714  0.06940247\n",
      " -0.05734505  0.01440017 -0.05324148 -0.01925558]\n",
      "[ 0.02492941 -0.00631272 -0.038455    0.00112602 -0.00462112  0.00337465\n",
      " -0.01096102  0.01836674 -0.01375169  0.00876257  0.01222599  0.02213905\n",
      "  0.00557344  0.00277388 -0.00946699 -0.01301269 -0.01961228 -0.00106488\n",
      " -0.01253968 -0.02822469  0.00089348  0.053147   -0.03498018 -0.00832032\n",
      " -0.00519652 -0.0045911  -0.01298835  0.04110386 -0.00503035  0.01323568\n",
      " -0.03794395  0.01400345 -0.03321822  0.02718348 -0.01875308 -0.01763543\n",
      " -0.03856808  0.02253643 -0.0407634   0.01858662  0.0292297   0.03957988\n",
      "  0.04167425  0.06921835 -0.03931155 -0.04528747  0.01856758 -0.01008803\n",
      "  0.01772105 -0.01228787  0.00014273  0.01226472  0.0317228   0.01758189\n",
      "  0.00436587  0.0158329  -0.01799598 -0.03356285  0.00702879 -0.00596418\n",
      "  0.0311464  -0.00042699  0.00136589  0.00644355  0.0501376   0.01442501\n",
      "  0.02063878  0.00134819 -0.0359105  -0.01455699  0.01642019 -0.01360606\n",
      "  0.01511159 -0.06207854 -0.00994946  0.00358914  0.01801785  0.00386443\n",
      " -0.04267288  0.03970241 -0.01680034  0.03580693 -0.00092702  0.03295241\n",
      "  0.01377685 -0.00150142 -0.02590684 -0.01748101  0.01705538  0.04215022\n",
      "  0.01938234 -0.01728086 -0.02858199  0.01732252  0.01972491  0.07209858\n",
      " -0.00177583  0.0129069  -0.01712903 -0.03540925]\n",
      "creating custom button java\n",
      "[ 0.03946135 -0.01895934 -0.03958725  0.02372191 -0.03200745 -0.03325377\n",
      " -0.0384396  -0.0286919   0.061912   -0.04168563  0.0564394   0.01196537\n",
      " -0.00890283 -0.01015743 -0.0206078  -0.046076    0.05363215 -0.05547065\n",
      " -0.01626057  0.0414144   0.06061005 -0.0112649   0.00380515 -0.02636755\n",
      " -0.00237415 -0.03647565  0.00513246  0.00844215  0.00136082 -0.0001688\n",
      "  0.02585695  0.02010455  0.0373806   0.00389148  0.01114563  0.02458488\n",
      " -0.01669365 -0.0172052  -0.045683    0.0696663  -0.03075765 -0.00138943\n",
      "  0.05790395  0.0024923  -0.047991   -0.03022564 -0.02845074 -0.0109476\n",
      "  0.01736468 -0.0033679   0.01212915 -0.00287544 -0.05410637  0.0605781\n",
      "  0.01809814  0.03934135 -0.02321735 -0.00391993 -0.0541673   0.01301989\n",
      " -0.0153438   0.00932258  0.0237057   0.01233475 -0.03718435 -0.05129345\n",
      " -0.01328908 -0.0286451  -0.00565565 -0.03902982 -0.00098095 -0.02807712\n",
      "  0.0122166  -0.0125251  -0.025301    0.00165935  0.0164602   0.02054094\n",
      " -0.01269195 -0.01932808 -0.03001547 -0.0036512  -0.0210084   0.01518921\n",
      " -0.05762915 -0.00801535 -0.05148435  0.00659696  0.06974803  0.00294865\n",
      "  0.02903713 -0.01821982  0.04578645 -0.01803585 -0.00229296 -0.0568002\n",
      "  0.03297375 -0.00580772 -0.01140525 -0.01412367]\n",
      "[ 2.59691750e-02  1.37169550e-02 -2.63312500e-02  1.91104450e-02\n",
      "  1.05257450e-02 -3.34121850e-02 -2.58517900e-02  1.72770000e-03\n",
      "  4.37813500e-02 -2.11707650e-02  3.11560500e-02  1.46334400e-02\n",
      " -5.36984000e-03 -5.58996500e-03 -1.62270700e-02 -3.83945000e-03\n",
      "  2.40199250e-02 -3.41344750e-02 -1.01680875e-02  2.47078275e-02\n",
      "  5.03193975e-02  1.72117900e-02  1.24704250e-02 -3.14787820e-02\n",
      " -5.89037500e-03 -3.08497250e-02  4.21852750e-03  9.62216500e-03\n",
      "  4.88088750e-03 -7.82796000e-03  9.21465000e-03  1.19064375e-02\n",
      "  2.73462750e-02 -9.77325000e-05  2.06923650e-02 -5.78698500e-03\n",
      "  1.41200000e-04  5.49255000e-03 -3.03006160e-02  4.02948250e-02\n",
      " -5.51315000e-03 -8.19940000e-04  4.88084750e-02 -2.20715750e-02\n",
      " -6.73403725e-02 -5.24446700e-02  1.58628025e-02  2.80709250e-03\n",
      " -7.00408500e-03  1.87711175e-02 -1.00178105e-02  1.19583550e-02\n",
      " -3.96922100e-02  3.20586500e-02  1.92444450e-02  4.30560500e-02\n",
      " -3.66647000e-02  9.99220000e-04 -1.52404500e-02  1.69368700e-02\n",
      "  9.29316250e-03 -1.68120100e-02  7.76740250e-03 -5.21215000e-03\n",
      " -5.51761500e-03 -2.21360750e-02 -8.06325000e-05 -1.33294500e-02\n",
      " -2.46747250e-02 -3.15566425e-02  2.73073750e-02 -7.86040400e-03\n",
      "  1.57768625e-02 -6.58672500e-04 -1.00971275e-02 -6.37998750e-03\n",
      "  1.19994000e-02  1.82628178e-02  3.53185225e-03 -1.51780425e-02\n",
      " -5.35298100e-02 -2.68545000e-02  1.28297980e-02  1.24098750e-03\n",
      " -3.50176000e-02  1.09024250e-02 -9.05722500e-03 -7.00850000e-04\n",
      "  3.63119465e-02  8.73525000e-04  1.69173400e-02 -9.68265755e-03\n",
      "  1.96328000e-02  1.81259750e-02 -6.45298500e-03 -3.78870275e-02\n",
      "  2.27823000e-02 -2.86025600e-02  3.31336750e-03 -3.01592375e-02]\n",
      "different methods parse strings java\n",
      "[ 2.89808000e-03  4.61162500e-03 -1.90362250e-02  3.38252500e-03\n",
      "  2.20464200e-02 -4.25118500e-02 -1.16936500e-02  1.08200565e-02\n",
      " -1.36526350e-02  6.17365000e-03  3.62842250e-02 -1.28288750e-02\n",
      " -2.04291000e-03  1.32507950e-02  4.55686250e-02 -8.75902500e-03\n",
      " -9.47312500e-03 -1.30110550e-02  1.46931848e-02  2.23740775e-03\n",
      "  1.88441750e-02 -2.45140775e-02  5.07081450e-02 -1.02553825e-02\n",
      " -1.71803300e-02  1.38354000e-02  2.08476225e-02  2.57561325e-03\n",
      "  4.15185250e-03 -3.92805500e-02  1.15773125e-02  2.77972500e-04\n",
      " -5.59122500e-03  2.26946500e-02 -1.78721850e-02  2.00804000e-02\n",
      "  2.36281175e-02 -1.98422000e-02 -3.04959250e-02 -5.19756000e-03\n",
      " -3.15237750e-02  7.59142500e-03  2.09404875e-02  3.11416000e-02\n",
      " -4.33622000e-02 -1.30224575e-02  1.79867000e-02 -1.53878400e-02\n",
      " -9.70135500e-03  5.91875000e-05  5.89066750e-02  6.25671250e-03\n",
      "  1.73908650e-02 -6.54939000e-03  3.07675500e-02  3.37535000e-03\n",
      " -3.12159225e-02 -5.99882500e-03  1.71744425e-02  2.51393000e-02\n",
      "  3.74918875e-02 -2.89404550e-02 -1.85398180e-02  2.50158025e-02\n",
      " -3.61120750e-02 -5.91672250e-02  5.68122500e-03  2.42873350e-02\n",
      "  1.00905525e-02 -2.31196750e-02  1.49155000e-03  2.12596115e-02\n",
      "  1.05235250e-02 -2.80506575e-02  1.41780250e-03 -1.34069000e-02\n",
      "  2.88340750e-02  1.62940750e-02 -3.44309975e-02  9.46475000e-04\n",
      "  1.46572275e-02  2.62823500e-02  8.86755500e-03  2.95114825e-02\n",
      "  1.48667500e-03 -1.17075225e-02  1.93521675e-02 -2.25048750e-02\n",
      " -8.22080850e-03  3.93182500e-03 -1.29470750e-02 -3.37888150e-02\n",
      "  2.48212100e-02  3.59319500e-02 -7.66051250e-03  8.54765000e-03\n",
      " -3.12842500e-03 -7.21332250e-03  3.12237175e-02 -1.27819650e-02]\n",
      "[ 9.81592400e-03  2.60141000e-02 -1.72549000e-02  4.05261200e-03\n",
      "  3.86369360e-02 -3.78870800e-02 -9.85083200e-03  1.80154452e-02\n",
      " -6.85792800e-03  1.54933600e-02  3.43692600e-02 -3.91212000e-03\n",
      " -5.11912800e-03  1.51273960e-02  3.34098800e-02 -2.92000000e-04\n",
      " -1.20376000e-03 -4.76144400e-03  7.54980780e-03  9.14448200e-04\n",
      "  2.93562000e-02 -7.20220000e-05  3.54424960e-02 -8.28481160e-03\n",
      " -1.04606640e-02  4.68694000e-03  1.56062380e-02  3.36836260e-03\n",
      "  1.18642820e-02 -3.94792600e-02 -4.50300000e-05  1.25099400e-03\n",
      " -7.74148000e-03  6.73420000e-03 -1.08126480e-02  7.75626000e-03\n",
      "  3.24507740e-02 -9.40286000e-03 -2.95133000e-02 -1.63934880e-02\n",
      " -3.19140200e-02  2.05512000e-03  2.66000500e-02  7.91210000e-03\n",
      " -5.70737600e-02 -2.16616660e-02  2.79700600e-02 -4.06225200e-03\n",
      " -1.63786640e-02  1.44703700e-02  3.41983800e-02  2.20333700e-02\n",
      "  9.40873200e-03  6.89668000e-04  3.54580600e-02  1.81188200e-02\n",
      " -3.78403980e-02 -9.10480000e-04  1.74424940e-02  2.44799200e-02\n",
      "  4.25205500e-02 -3.16518440e-02 -1.67621724e-02  8.10676200e-03\n",
      " -2.02564000e-02 -4.00652200e-02  1.05921400e-02  2.54828880e-02\n",
      " -4.85219800e-03 -1.75633440e-02  1.23097600e-02  2.13764692e-02\n",
      "  1.65408600e-02 -1.72099860e-02 -6.70340000e-04 -1.13571300e-02\n",
      "  1.46392200e-02  1.33798980e-02 -1.98117380e-02  4.74496000e-04\n",
      " -1.31086180e-02  7.65080000e-03  1.64374240e-02  2.03956060e-02\n",
      " -1.09994000e-03 -8.01173800e-03  3.37393340e-02 -2.09966600e-02\n",
      " -5.35919080e-03  3.85540000e-04 -4.30204000e-03 -2.52769700e-02\n",
      "  1.42245480e-02  3.71719200e-02 -9.44851000e-03 -5.02520000e-04\n",
      " -4.72720000e-04 -1.44288980e-02  3.07919340e-02 -2.15104720e-02]\n",
      "configure communicate serial port\n",
      "[-0.04372297 -0.01617767 -0.0501218   0.05890103  0.0274883   0.0498307\n",
      "  0.0055704   0.02782452  0.01405857 -0.053343   -0.02290413  0.02855815\n",
      " -0.02518207  0.0781599   0.03843247  0.01826168 -0.04548803 -0.0164042\n",
      " -0.0145414  -0.03811493 -0.03755346 -0.03970302 -0.02151653 -0.029808\n",
      " -0.0522179  -0.00753795 -0.00870453  0.05074027  0.00304591 -0.0537829\n",
      " -0.04911881 -0.01993613  0.08060693  0.1173195   0.04032237 -0.01699307\n",
      " -0.0863953   0.1019327   0.12296577 -0.0524424  -0.03630557 -0.02998973\n",
      "  0.00362793 -0.02334743  0.00300451  0.02028447  0.01612683  0.02868627\n",
      "  0.02563211 -0.07137573  0.03593801  0.04007297 -0.03341907  0.05214517\n",
      " -0.03262268  0.14898057 -0.04851193 -0.00760417  0.05515748  0.03394117\n",
      "  0.01375243  0.04844399  0.035963    0.01263507  0.00863873  0.002058\n",
      "  0.02377643 -0.05095803 -0.02863893 -0.01888777 -0.03872363 -0.0258695\n",
      "  0.0053027  -0.04280563 -0.09418127  0.02541177 -0.0277006   0.10919647\n",
      " -0.10167043  0.03224743 -0.00196303  0.04468637  0.047408   -0.06391237\n",
      "  0.06170753  0.022159    0.02389043  0.01265553  0.05246073 -0.04946367\n",
      " -0.0646442  -0.01158794  0.0111868   0.0362855   0.03862327 -0.0433996\n",
      " -0.07093493  0.00781873 -0.0435992   0.10554523]\n",
      "[-0.0348209  -0.0026119  -0.05677385  0.08416277  0.02931425  0.04542475\n",
      "  0.02255833  0.03898874  0.01662085 -0.05112332 -0.03993655  0.02378504\n",
      " -0.01266222  0.02484868  0.00433028 -0.00126609 -0.04016055  0.0426631\n",
      " -0.03285593 -0.04836132 -0.03292807 -0.01354027 -0.0426799  -0.03994772\n",
      " -0.07251942 -0.01415119  0.01000487  0.02963482  0.01050681 -0.06111735\n",
      " -0.02436879 -0.03664083  0.05916305  0.11952338  0.07036352 -0.01186155\n",
      " -0.08803315  0.0988311   0.1082385  -0.04259745 -0.06190367 -0.04105982\n",
      " -0.00128693 -0.02743732  0.01992383  0.03843513  0.0041264   0.01360452\n",
      "  0.03445218 -0.0535243   0.07053401  0.02594917 -0.01749805  0.03625802\n",
      " -0.01970881  0.13095733 -0.0735437   0.02642963  0.06228461  0.06242788\n",
      "  0.00385647  0.04242872  0.01341688  0.01520145 -0.02370995  0.0315545\n",
      "  0.0079416  -0.0197798  -0.03073792 -0.01296777 -0.0201179  -0.00982472\n",
      " -0.02591222 -0.05811748 -0.05087253  0.0094663  -0.02985425  0.0927901\n",
      " -0.0843944   0.00972223 -0.03491103  0.04853898  0.0366191  -0.06871782\n",
      "  0.05805833  0.00730163  0.03539068  0.00309905  0.01764147 -0.03406658\n",
      " -0.06600683  0.01225812 -0.0170419   0.06788012  0.0420541  -0.01385525\n",
      " -0.04387075  0.0231686  -0.05776915  0.05414142]\n"
     ]
    }
   ],
   "source": [
    "def trytag():\n",
    "    for tag, count in counts_by_tag.head(2).items():\n",
    "        print (\"'{}'\".format(tag), count)\n",
    "        tag_posts = posts_df[posts_df['tag'] == tag]\n",
    "        tag_post_ids = tag_posts['post_id']\n",
    "        print(tag_post_ids.head())\n",
    "        \n",
    "        tag_vectors = np.zeros((count, embeddings_dim), dtype=np.float32)\n",
    "        for i, title in enumerate(tag_posts['title'].head()):\n",
    "            print(text_prepare(title))\n",
    "            print(question_to_vec(title, starspace_embeddings, embeddings_dim))\n",
    "            print(question_to_vec(text_prepare(title), starspace_embeddings, embeddings_dim))\n",
    "        \n",
    "trytag()"
   ]
  },
  {
   "cell_type": "code",
   "execution_count": 28,
   "metadata": {},
   "outputs": [],
   "source": [
    "import os\n",
    "os.makedirs(RESOURCE_PATH['THREAD_EMBEDDINGS_FOLDER'], exist_ok=True)\n",
    "\n",
    "for tag, count in counts_by_tag.items():\n",
    "    tag_posts = posts_df[posts_df['tag'] == tag]\n",
    "    \n",
    "    tag_post_ids = tag_posts['post_id'].tolist()\n",
    "    \n",
    "    tag_vectors = np.zeros((count, embeddings_dim), dtype=np.float32)\n",
    "    for i, title in enumerate(tag_posts['title']):\n",
    "        tag_vectors[i, :] = question_to_vec(text_prepare(title), starspace_embeddings, embeddings_dim)\n",
    "\n",
    "    # Dump post ids and vectors to a file.\n",
    "    filename = os.path.join(RESOURCE_PATH['THREAD_EMBEDDINGS_FOLDER'], os.path.normpath('%s.pkl' % tag))\n",
    "    pickle.dump((tag_post_ids, tag_vectors), open(filename, 'wb'))"
   ]
  },
  {
   "cell_type": "code",
   "execution_count": null,
   "metadata": {},
   "outputs": [],
   "source": []
  }
 ],
 "metadata": {
  "kernelspec": {
   "display_name": "Python 3",
   "language": "python",
   "name": "python3"
  },
  "language_info": {
   "codemirror_mode": {
    "name": "ipython",
    "version": 3
   },
   "file_extension": ".py",
   "mimetype": "text/x-python",
   "name": "python",
   "nbconvert_exporter": "python",
   "pygments_lexer": "ipython3",
   "version": "3.6.7"
  },
  "latex_envs": {
   "bibliofile": "biblio.bib",
   "cite_by": "apalike",
   "current_citInitial": 1,
   "eqLabelWithNumbers": true,
   "eqNumInitial": 0
  }
 },
 "nbformat": 4,
 "nbformat_minor": 2
}
